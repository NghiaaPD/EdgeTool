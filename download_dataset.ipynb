{
 "cells": [
  {
   "cell_type": "code",
   "execution_count": 5,
   "outputs": [],
   "source": [
    "!pip install -q --upgrade kagglehub"
   ],
   "metadata": {
    "collapsed": false,
    "ExecuteTime": {
     "end_time": "2024-10-23T06:05:36.810757200Z",
     "start_time": "2024-10-23T06:05:30.109862600Z"
    }
   },
   "id": "c0d7085a43dcd0c0"
  },
  {
   "cell_type": "code",
   "execution_count": 1,
   "id": "initial_id",
   "metadata": {
    "collapsed": true,
    "ExecuteTime": {
     "end_time": "2024-10-23T06:10:41.538978800Z",
     "start_time": "2024-10-23T06:06:56.306570300Z"
    }
   },
   "outputs": [
    {
     "name": "stdout",
     "output_type": "stream",
     "text": [
      "Downloading from https://www.kaggle.com/api/v1/datasets/download/mexwell/telecom-shanghai-dataset?dataset_version_number=1...\n"
     ]
    },
    {
     "name": "stderr",
     "output_type": "stream",
     "text": [
      "100%|██████████| 219M/219M [03:41<00:00, 1.04MB/s] "
     ]
    },
    {
     "name": "stdout",
     "output_type": "stream",
     "text": [
      "Extracting files...\n"
     ]
    },
    {
     "name": "stderr",
     "output_type": "stream",
     "text": [
      "\n"
     ]
    },
    {
     "name": "stdout",
     "output_type": "stream",
     "text": [
      "Path to dataset files: C:\\Users\\Admin\\.cache\\kagglehub\\datasets\\mexwell\\telecom-shanghai-dataset\\versions\\1\n"
     ]
    }
   ],
   "source": [
    "import kagglehub\n",
    "\n",
    "path = kagglehub.dataset_download(\"mexwell/telecom-shanghai-dataset\")\n",
    "\n",
    "print(\"Path to dataset files:\", path)"
   ]
  },
  {
   "cell_type": "code",
   "execution_count": 1,
   "outputs": [
    {
     "data": {
      "text/plain": "    month  date          start time            end time   latitude  \\\n0  201406     1 2014-06-01 10:22:36 2014-06-01 11:09:52  31.237872   \n1  201406     1 2014-06-01 07:00:37 2014-06-01 08:49:20  31.237872   \n2  201406     1 2014-06-01 02:49:16 2014-06-01 05:49:12  31.237872   \n3  201406     1 2014-06-01 08:51:58 2014-06-01 09:20:50  31.237872   \n4  201406     1 2014-05-31 23:49:10 2014-06-01 02:49:07  31.237872   \n\n    longitude                           user id  \n0  121.470259  edbc54bddf16494a49f39ac057b4185d  \n1  121.470259  f8206ab58b9bdb070673f7050242e9ee  \n2  121.470259  f8206ab58b9bdb070673f7050242e9ee  \n3  121.470259  f8206ab58b9bdb070673f7050242e9ee  \n4  121.470259  f8206ab58b9bdb070673f7050242e9ee  ",
      "text/html": "<div>\n<style scoped>\n    .dataframe tbody tr th:only-of-type {\n        vertical-align: middle;\n    }\n\n    .dataframe tbody tr th {\n        vertical-align: top;\n    }\n\n    .dataframe thead th {\n        text-align: right;\n    }\n</style>\n<table border=\"1\" class=\"dataframe\">\n  <thead>\n    <tr style=\"text-align: right;\">\n      <th></th>\n      <th>month</th>\n      <th>date</th>\n      <th>start time</th>\n      <th>end time</th>\n      <th>latitude</th>\n      <th>longitude</th>\n      <th>user id</th>\n    </tr>\n  </thead>\n  <tbody>\n    <tr>\n      <th>0</th>\n      <td>201406</td>\n      <td>1</td>\n      <td>2014-06-01 10:22:36</td>\n      <td>2014-06-01 11:09:52</td>\n      <td>31.237872</td>\n      <td>121.470259</td>\n      <td>edbc54bddf16494a49f39ac057b4185d</td>\n    </tr>\n    <tr>\n      <th>1</th>\n      <td>201406</td>\n      <td>1</td>\n      <td>2014-06-01 07:00:37</td>\n      <td>2014-06-01 08:49:20</td>\n      <td>31.237872</td>\n      <td>121.470259</td>\n      <td>f8206ab58b9bdb070673f7050242e9ee</td>\n    </tr>\n    <tr>\n      <th>2</th>\n      <td>201406</td>\n      <td>1</td>\n      <td>2014-06-01 02:49:16</td>\n      <td>2014-06-01 05:49:12</td>\n      <td>31.237872</td>\n      <td>121.470259</td>\n      <td>f8206ab58b9bdb070673f7050242e9ee</td>\n    </tr>\n    <tr>\n      <th>3</th>\n      <td>201406</td>\n      <td>1</td>\n      <td>2014-06-01 08:51:58</td>\n      <td>2014-06-01 09:20:50</td>\n      <td>31.237872</td>\n      <td>121.470259</td>\n      <td>f8206ab58b9bdb070673f7050242e9ee</td>\n    </tr>\n    <tr>\n      <th>4</th>\n      <td>201406</td>\n      <td>1</td>\n      <td>2014-05-31 23:49:10</td>\n      <td>2014-06-01 02:49:07</td>\n      <td>31.237872</td>\n      <td>121.470259</td>\n      <td>f8206ab58b9bdb070673f7050242e9ee</td>\n    </tr>\n  </tbody>\n</table>\n</div>"
     },
     "execution_count": 1,
     "metadata": {},
     "output_type": "execute_result"
    }
   ],
   "source": [
    "import pandas as pd\n",
    "\n",
    "data = pd.read_excel(\"./telecom-shanghai-dataset/data_6.16.15.xlsx\")\n",
    "\n",
    "data.head()"
   ],
   "metadata": {
    "collapsed": false,
    "ExecuteTime": {
     "end_time": "2024-10-23T06:46:00.949356600Z",
     "start_time": "2024-10-23T06:45:28.973043100Z"
    }
   },
   "id": "ae2bbe95c0b90b97"
  },
  {
   "cell_type": "code",
   "execution_count": 2,
   "outputs": [
    {
     "name": "stdout",
     "output_type": "stream",
     "text": [
      "<class 'pandas.core.frame.DataFrame'>\n",
      "RangeIndex: 611506 entries, 0 to 611505\n",
      "Data columns (total 7 columns):\n",
      " #   Column      Non-Null Count   Dtype         \n",
      "---  ------      --------------   -----         \n",
      " 0   month       611506 non-null  int64         \n",
      " 1   date        611506 non-null  int64         \n",
      " 2   start time  611506 non-null  datetime64[ns]\n",
      " 3   end time    611506 non-null  datetime64[ns]\n",
      " 4   latitude    563914 non-null  float64       \n",
      " 5   longitude   563914 non-null  float64       \n",
      " 6   user id     611506 non-null  object        \n",
      "dtypes: datetime64[ns](2), float64(2), int64(2), object(1)\n",
      "memory usage: 32.7+ MB\n"
     ]
    }
   ],
   "source": [
    "data.info()"
   ],
   "metadata": {
    "collapsed": false,
    "ExecuteTime": {
     "end_time": "2024-10-23T06:46:01.055961Z",
     "start_time": "2024-10-23T06:46:00.947323100Z"
    }
   },
   "id": "553336b5d89ef605"
  },
  {
   "cell_type": "code",
   "execution_count": 3,
   "outputs": [],
   "source": [
    "data.drop(columns=[\"month\"], inplace=True)\n",
    "data.drop(columns=[\"date\"], inplace=True)\n",
    "data.drop(columns=[\"start time\"], inplace=True)\n",
    "data.drop(columns=[\"end time\"], inplace=True)\n",
    "data.drop(columns=[\"user id\"], inplace=True)\n"
   ],
   "metadata": {
    "collapsed": false,
    "ExecuteTime": {
     "end_time": "2024-10-23T06:46:37.393873900Z",
     "start_time": "2024-10-23T06:46:37.352324400Z"
    }
   },
   "id": "1cf2366de6c56300"
  },
  {
   "cell_type": "code",
   "execution_count": 4,
   "outputs": [
    {
     "data": {
      "text/plain": "    latitude   longitude\n0  31.237872  121.470259\n1  31.237872  121.470259\n2  31.237872  121.470259\n3  31.237872  121.470259\n4  31.237872  121.470259",
      "text/html": "<div>\n<style scoped>\n    .dataframe tbody tr th:only-of-type {\n        vertical-align: middle;\n    }\n\n    .dataframe tbody tr th {\n        vertical-align: top;\n    }\n\n    .dataframe thead th {\n        text-align: right;\n    }\n</style>\n<table border=\"1\" class=\"dataframe\">\n  <thead>\n    <tr style=\"text-align: right;\">\n      <th></th>\n      <th>latitude</th>\n      <th>longitude</th>\n    </tr>\n  </thead>\n  <tbody>\n    <tr>\n      <th>0</th>\n      <td>31.237872</td>\n      <td>121.470259</td>\n    </tr>\n    <tr>\n      <th>1</th>\n      <td>31.237872</td>\n      <td>121.470259</td>\n    </tr>\n    <tr>\n      <th>2</th>\n      <td>31.237872</td>\n      <td>121.470259</td>\n    </tr>\n    <tr>\n      <th>3</th>\n      <td>31.237872</td>\n      <td>121.470259</td>\n    </tr>\n    <tr>\n      <th>4</th>\n      <td>31.237872</td>\n      <td>121.470259</td>\n    </tr>\n  </tbody>\n</table>\n</div>"
     },
     "execution_count": 4,
     "metadata": {},
     "output_type": "execute_result"
    }
   ],
   "source": [
    "data.head()"
   ],
   "metadata": {
    "collapsed": false,
    "ExecuteTime": {
     "end_time": "2024-10-23T06:46:39.909662200Z",
     "start_time": "2024-10-23T06:46:39.899162500Z"
    }
   },
   "id": "92409da4cc8290a1"
  },
  {
   "cell_type": "code",
   "execution_count": 5,
   "outputs": [],
   "source": [
    "data = data.dropna(subset=['latitude', 'longitude'])"
   ],
   "metadata": {
    "collapsed": false,
    "ExecuteTime": {
     "end_time": "2024-10-23T06:46:40.786688500Z",
     "start_time": "2024-10-23T06:46:40.772060800Z"
    }
   },
   "id": "49a15b68bd4fa2d0"
  },
  {
   "cell_type": "code",
   "execution_count": 6,
   "outputs": [
    {
     "data": {
      "text/plain": "    latitude   longitude\n0  31.237872  121.470259\n1  31.237872  121.470259\n2  31.237872  121.470259\n3  31.237872  121.470259\n4  31.237872  121.470259",
      "text/html": "<div>\n<style scoped>\n    .dataframe tbody tr th:only-of-type {\n        vertical-align: middle;\n    }\n\n    .dataframe tbody tr th {\n        vertical-align: top;\n    }\n\n    .dataframe thead th {\n        text-align: right;\n    }\n</style>\n<table border=\"1\" class=\"dataframe\">\n  <thead>\n    <tr style=\"text-align: right;\">\n      <th></th>\n      <th>latitude</th>\n      <th>longitude</th>\n    </tr>\n  </thead>\n  <tbody>\n    <tr>\n      <th>0</th>\n      <td>31.237872</td>\n      <td>121.470259</td>\n    </tr>\n    <tr>\n      <th>1</th>\n      <td>31.237872</td>\n      <td>121.470259</td>\n    </tr>\n    <tr>\n      <th>2</th>\n      <td>31.237872</td>\n      <td>121.470259</td>\n    </tr>\n    <tr>\n      <th>3</th>\n      <td>31.237872</td>\n      <td>121.470259</td>\n    </tr>\n    <tr>\n      <th>4</th>\n      <td>31.237872</td>\n      <td>121.470259</td>\n    </tr>\n  </tbody>\n</table>\n</div>"
     },
     "execution_count": 6,
     "metadata": {},
     "output_type": "execute_result"
    }
   ],
   "source": [
    "data.head()"
   ],
   "metadata": {
    "collapsed": false,
    "ExecuteTime": {
     "end_time": "2024-10-23T06:47:07.316996700Z",
     "start_time": "2024-10-23T06:47:07.304986100Z"
    }
   },
   "id": "b34d36d2ee1498a3"
  },
  {
   "cell_type": "code",
   "execution_count": 7,
   "outputs": [],
   "source": [
    "data.to_excel(\"./output_data.xlsx\", index=False)"
   ],
   "metadata": {
    "collapsed": false,
    "ExecuteTime": {
     "end_time": "2024-10-23T06:47:20.586054400Z",
     "start_time": "2024-10-23T06:47:09.193196Z"
    }
   },
   "id": "8f66edf409e7e834"
  },
  {
   "cell_type": "code",
   "execution_count": 11,
   "outputs": [
    {
     "data": {
      "text/plain": "0         31.237872\n1         31.237872\n2         31.237872\n3         31.237872\n4         31.237872\n            ...    \n609397    31.125764\n609398    31.125764\n609399    31.125764\n609400    31.125764\n609401    31.087196\nName: latitude, Length: 563914, dtype: float64"
     },
     "execution_count": 11,
     "metadata": {},
     "output_type": "execute_result"
    }
   ],
   "source": [
    "data.latitude"
   ],
   "metadata": {
    "collapsed": false,
    "ExecuteTime": {
     "end_time": "2024-10-23T07:02:08.391969100Z",
     "start_time": "2024-10-23T07:02:08.385326600Z"
    }
   },
   "id": "951055314e8bf49e"
  },
  {
   "cell_type": "code",
   "execution_count": 9,
   "outputs": [
    {
     "data": {
      "text/plain": "0         121.470259\n1         121.470259\n2         121.470259\n3         121.470259\n4         121.470259\n             ...    \n609397    121.562057\n609398    121.562057\n609399    121.562057\n609400    121.562057\n609401    121.505435\nName: longitude, Length: 563914, dtype: float64"
     },
     "execution_count": 9,
     "metadata": {},
     "output_type": "execute_result"
    }
   ],
   "source": [
    "data.longitude"
   ],
   "metadata": {
    "collapsed": false,
    "ExecuteTime": {
     "end_time": "2024-10-23T06:47:50.769384900Z",
     "start_time": "2024-10-23T06:47:50.767589600Z"
    }
   },
   "id": "32a16cd94c3db5b7"
  },
  {
   "cell_type": "code",
   "execution_count": null,
   "outputs": [],
   "source": [],
   "metadata": {
    "collapsed": false
   },
   "id": "fcf2f62216bc9cf8"
  }
 ],
 "metadata": {
  "kernelspec": {
   "display_name": "Python 3",
   "language": "python",
   "name": "python3"
  },
  "language_info": {
   "codemirror_mode": {
    "name": "ipython",
    "version": 2
   },
   "file_extension": ".py",
   "mimetype": "text/x-python",
   "name": "python",
   "nbconvert_exporter": "python",
   "pygments_lexer": "ipython2",
   "version": "2.7.6"
  }
 },
 "nbformat": 4,
 "nbformat_minor": 5
}
